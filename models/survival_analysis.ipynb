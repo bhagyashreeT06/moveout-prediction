{
 "cells": [
  {
   "cell_type": "code",
   "execution_count": 1,
   "id": "ea7a401f",
   "metadata": {},
   "outputs": [],
   "source": [
    "import warnings\n",
    "warnings.filterwarnings('ignore')\n",
    "\n",
    "import datetime\n",
    "import pandas as pd\n",
    "import findspark\n",
    "findspark.init()"
   ]
  },
  {
   "cell_type": "code",
   "execution_count": 2,
   "id": "1afeafc4",
   "metadata": {},
   "outputs": [],
   "source": [
    "import pyspark\n",
    "from pyspark import SparkContext\n",
    "from pyspark.sql import SparkSession\n",
    "from pyspark.sql.types import *\n",
    "from pyspark.sql.functions import *"
   ]
  },
  {
   "cell_type": "code",
   "execution_count": 3,
   "id": "9eeec958",
   "metadata": {},
   "outputs": [],
   "source": [
    "spark = SparkSession.builder \\\n",
    "    .master(\"local\") \\\n",
    "    .appName(\"MoveoutPrediction\") \\\n",
    "    .getOrCreate()"
   ]
  },
  {
   "cell_type": "code",
   "execution_count": 4,
   "id": "2e0f5f47",
   "metadata": {},
   "outputs": [],
   "source": [
    "pandasDF = pd.read_excel( \"./../data/714314_Avana_Rancho_Cucamonga.xlsx\" )\n",
    "moveoutSchema = StructType( [ StructField(\"id\", LongType() )\\\n",
    "                       ,StructField( \"name\", StringType() )\\\n",
    "                       ,StructField( \"start_date\", StringType() )\\\n",
    "                       ,StructField( \"move_out_date\", StringType(), True )\\\n",
    "                       ,StructField( \"end_date\", StringType(), True )\\\n",
    "                       ,StructField( \"moved_out\", ShortType() ) ] )"
   ]
  },
  {
   "cell_type": "code",
   "execution_count": 5,
   "id": "0638479f",
   "metadata": {},
   "outputs": [
    {
     "name": "stdout",
     "output_type": "stream",
     "text": [
      "+--------+-----------------+----------+-------------+----------+---------+------+\n",
      "|      id|             name|start_date|move_out_date|  end_date|moved_out|months|\n",
      "+--------+-----------------+----------+-------------+----------+---------+------+\n",
      "|13502853|     Carol Newman|2021-07-23|         null|2023-07-19|        1|  null|\n",
      "|13026843|Anthony Hernandez|2019-03-28|   2019-06-06|2020-02-21|        0|   2.0|\n",
      "|13132170|Nuha Abu Mayyaleh|2019-09-06|   2020-10-12|2020-10-12|        0|  13.0|\n",
      "|13620080|Anjanette Ballard|2022-01-05|         null|2023-05-04|        1|  null|\n",
      "|13481247|       Joseph Kim|2021-07-21|   2022-06-24|2022-06-24|        0|  11.0|\n",
      "+--------+-----------------+----------+-------------+----------+---------+------+\n",
      "only showing top 5 rows\n",
      "\n"
     ]
    }
   ],
   "source": [
    "sdf = spark.createDataFrame( pandasDF, schema = moveoutSchema )\n",
    "sdf = sdf.withColumn( \"months\", round( months_between( col( \"move_out_date\" ), col( \"start_date\" ) ) ) )\n",
    "\n",
    "\n",
    "sdf = sdf.replace('NaN', None)\n",
    "# show only 5 rows\n",
    "sdf.show(5)"
   ]
  },
  {
   "cell_type": "code",
   "execution_count": 6,
   "id": "3fa59b35",
   "metadata": {},
   "outputs": [
    {
     "name": "stdout",
     "output_type": "stream",
     "text": [
      "[12.0]\n"
     ]
    }
   ],
   "source": [
    "approxQuantile = sdf.approxQuantile(\"months\", [ 0.5 ], 0.25)\n",
    "print(approxQuantile)\n",
    "sdf = sdf.na.fill"
   ]
  },
  {
   "cell_type": "code",
   "execution_count": 9,
   "id": "9a59de04",
   "metadata": {},
   "outputs": [
    {
     "name": "stdout",
     "output_type": "stream",
     "text": [
      "+--------+--------+------+--------------------+\n",
      "|   label|features|censor|          prediction|\n",
      "+--------+--------+------+--------------------+\n",
      "|13026843|   [2.0]|     0|3.165306948511722E16|\n",
      "|13132170|  [13.0]|     0|3.069828887084966E16|\n",
      "|13481247|  [11.0]|     0|3.086971732142145...|\n",
      "|13304982|  [18.0]|     0| 3.02738711513746E16|\n",
      "|13310235|  [16.0]|     0|3.044292952613040...|\n",
      "+--------+--------+------+--------------------+\n",
      "only showing top 5 rows\n",
      "\n"
     ]
    }
   ],
   "source": [
    "# survival analysis\n",
    "from pyspark.ml.regression import AFTSurvivalRegression\n",
    "from pyspark.ml.feature import VectorAssembler\n",
    "from pyspark.ml.linalg import Vectors\n",
    "\n",
    "assembler = VectorAssembler(\n",
    "    inputCols=[ \"months\" ],\n",
    "    outputCol=\"features\" )\n",
    "\n",
    "modelDf = assembler.transform( sdf ).select( col(\"id\").alias(\"label\"), col(\"features\"), col(\"moved_out\").alias(\"censor\") )\n",
    "\n",
    "aftsr = AFTSurvivalRegression()\n",
    "aftsr.setMaxIter(10)\n",
    "model = aftsr.fit(modelDf)\n",
    "\n",
    "\n",
    "\n",
    "model.transform(modelDf).show(5)"
   ]
  },
  {
   "cell_type": "code",
   "execution_count": null,
   "id": "7e68fb6f",
   "metadata": {},
   "outputs": [],
   "source": []
  }
 ],
 "metadata": {
  "kernelspec": {
   "display_name": "Python 3 (ipykernel)",
   "language": "python",
   "name": "python3"
  },
  "language_info": {
   "codemirror_mode": {
    "name": "ipython",
    "version": 3
   },
   "file_extension": ".py",
   "mimetype": "text/x-python",
   "name": "python",
   "nbconvert_exporter": "python",
   "pygments_lexer": "ipython3",
   "version": "3.8.2"
  }
 },
 "nbformat": 4,
 "nbformat_minor": 5
}

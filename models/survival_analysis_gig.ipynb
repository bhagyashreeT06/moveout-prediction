{
 "cells": [
  {
   "cell_type": "code",
   "execution_count": 2,
   "id": "a130e98a",
   "metadata": {},
   "outputs": [],
   "source": [
    "import warnings\n",
    "warnings.filterwarnings('ignore')\n",
    "\n",
    "import pandas as pd\n",
    "import findspark\n",
    "findspark.init()"
   ]
  },
  {
   "cell_type": "code",
   "execution_count": 3,
   "id": "f55d4d91",
   "metadata": {},
   "outputs": [],
   "source": [
    "import pyspark\n",
    "from pyspark import SparkContext\n",
    "from pyspark.sql import SparkSession\n",
    "from pyspark.sql.types import *\n",
    "from pyspark.sql.functions import *"
   ]
  },
  {
   "cell_type": "code",
   "execution_count": 4,
   "id": "a7af7de5",
   "metadata": {},
   "outputs": [],
   "source": [
    "spark = SparkSession.builder \\\n",
    "    .master(\"local\") \\\n",
    "    .appName(\"MoveoutPrediction\") \\\n",
    "    .getOrCreate()"
   ]
  },
  {
   "cell_type": "code",
   "execution_count": 5,
   "id": "b7f1c88c",
   "metadata": {},
   "outputs": [],
   "source": [
    "pandasDF = pd.read_csv( \"./../data/gig_leases.csv\" )\n",
    "moveoutSchema = StructType( [ StructField(\"property_id\", LongType() )\\\n",
    "                             ,StructField(\"property_unit_id\", LongType() )\\\n",
    "                             ,StructField(\"unit_space_id\", LongType() )\\\n",
    "                             ,StructField(\"lease_id\", LongType() )\\\n",
    "                             ,StructField( \"move_in_date\", StringType() )\\\n",
    "                             ,StructField( \"lease_interval_type_id\", LongType() )\\\n",
    "                             ,StructField( \"first_renewal_start_date\", StringType(), True )\\\n",
    "                             ,StructField( \"first_renewal_end_date\", StringType(), True )\\\n",
    "                             ,StructField( \"last_renewal_start_date\", StringType(), True )\\\n",
    "                             ,StructField( \"last_renewal_end_date\", StringType(), True )\\\n",
    "                             ,StructField( \"first_notice_date\", StringType(), True )\\\n",
    "                             ,StructField( \"last_notice_date\", StringType(), True )\\\n",
    "                             ,StructField( \"number_of_units\", LongType() )\\\n",
    "                             ,StructField( \"move_in_year_cohort\", IntegerType() )\\\n",
    "                             ,StructField( \"estimated_move_out\", StringType(), True )\\\n",
    "                             ,StructField( \"six_month_before_end\", StringType(), True )\\\n",
    "                            ,StructField( \"censored\", ShortType() )\\\n",
    "                            ,StructField( \"duration\", LongType() )\\\n",
    "                            ,StructField( \"is_male\", LongType() )\\\n",
    "                            ,StructField( \"current_age\", FloatType() )\\\n",
    "                            ,StructField( \"age_at_move_in\", FloatType() )\\\n",
    "                            ,StructField( \"six_month_payment_count\", FloatType() )\n",
    "                            ,StructField( \"market_rent\", FloatType() )\n",
    "                            ,StructField( \"amenity_rent_flag\", FloatType() )] )\n",
    "\n",
    "\n"
   ]
  },
  {
   "cell_type": "code",
   "execution_count": 6,
   "id": "a033c67f",
   "metadata": {},
   "outputs": [],
   "source": [
    "sdf = spark.createDataFrame( pandasDF, schema = moveoutSchema )\n",
    "sdf = sdf.replace('NaN', None)\n",
    "# show only 5 rows\n",
    "sdf = sdf.select( col('lease_id'), col('lease_interval_type_id'), col('number_of_units'), col('move_in_year_cohort'),\n",
    "           col('duration'), col('is_male'), col('current_age'), col('age_at_move_in'), \n",
    "           col('six_month_payment_count'), col('market_rent'), col('amenity_rent_flag'), col('censored') )   \n",
    " "
   ]
  },
  {
   "cell_type": "code",
   "execution_count": 7,
   "id": "2cab9bed",
   "metadata": {},
   "outputs": [
    {
     "name": "stdout",
     "output_type": "stream",
     "text": [
      "[34.0]\n",
      "[31.0]\n",
      "[6.0]\n",
      "[2131.0]\n",
      "[1.0]\n"
     ]
    },
    {
     "data": {
      "text/plain": [
       "DataFrame[lease_id: bigint, lease_interval_type_id: bigint, number_of_units: bigint, move_in_year_cohort: int, duration: bigint, is_male: bigint, current_age: float, age_at_move_in: float, six_month_payment_count: float, market_rent: float, amenity_rent_flag: float, censored: smallint]"
      ]
     },
     "execution_count": 7,
     "metadata": {},
     "output_type": "execute_result"
    }
   ],
   "source": [
    "current_age = sdf.approxQuantile(\"current_age\", [ 0.5 ], 0.25)\n",
    "print(current_age)\n",
    "age_at_move_in = sdf.approxQuantile(\"age_at_move_in\", [ 0.5 ], 0.25)\n",
    "print(age_at_move_in)\n",
    "six_month_payment_count = sdf.approxQuantile(\"six_month_payment_count\", [ 0.5 ], 0.25)\n",
    "print(six_month_payment_count)\n",
    "market_rent = sdf.approxQuantile(\"market_rent\", [ 0.5 ], 0.25)\n",
    "print(market_rent)\n",
    "amenity_rent_flag = sdf.approxQuantile(\"amenity_rent_flag\", [ 0.5 ], 0.25)\n",
    "print(amenity_rent_flag)\n",
    "\n",
    "sdf.na.fill( { 'current_age':current_age[0], 'age_at_move_in':age_at_move_in[0], \n",
    "             'six_month_payment_count' : six_month_payment_count[0], \n",
    "             'market_rent': market_rent[0], 'amenity_rent_flag' : amenity_rent_flag[0] } )"
   ]
  },
  {
   "cell_type": "code",
   "execution_count": 8,
   "id": "8a30762c",
   "metadata": {
    "scrolled": true
   },
   "outputs": [
    {
     "name": "stdout",
     "output_type": "stream",
     "text": [
      "+--------+----------+------+--------------------+\n",
      "|   label|  features|censor|          prediction|\n",
      "+--------+----------+------+--------------------+\n",
      "|13106763|[32.0,7.0]|     0|3.448702679086453...|\n",
      "|13034395|[63.0,7.0]|     1|2.838609937424484E16|\n",
      "|13153039|[12.0,7.0]|     0|3.910246756697529...|\n",
      "|13141760|[40.0,7.0]|     0|3.279717146759322...|\n",
      "|13165497|[28.0,6.0]|     0|3.523816754992268...|\n",
      "|13021375|[49.0,7.0]|     0|3.099485477751760...|\n",
      "|12952136|[77.0,6.0]|     1|2.590417179008697...|\n",
      "|12974990|[25.0,6.0]|     0|3.590836059172275...|\n",
      "|13103483|[32.0,6.0]|     0|3.436399397315663...|\n",
      "|12882356|[60.0,6.0]|     1|2.882277955268536...|\n",
      "+--------+----------+------+--------------------+\n",
      "only showing top 10 rows\n",
      "\n"
     ]
    }
   ],
   "source": [
    "# survival analysis\n",
    "from pyspark.ml.regression import AFTSurvivalRegression\n",
    "from pyspark.ml.feature import VectorAssembler\n",
    "from pyspark.ml.linalg import Vectors\n",
    "\n",
    "assembler = VectorAssembler( inputCols=[ 'duration', 'six_month_payment_count' ], outputCol=\"features\", handleInvalid= \"skip\" )\n",
    "modelDf = assembler.transform( sdf ).select( col(\"lease_id\").alias(\"label\"), col(\"features\"), col(\"censored\").alias(\"censor\") )\n",
    "\n",
    "aftsr = AFTSurvivalRegression()\n",
    "aftsr.setMaxIter(30)\n",
    "model = aftsr.fit(modelDf)\n",
    "\n",
    "model.transform(modelDf).show(10)"
   ]
  },
  {
   "cell_type": "code",
   "execution_count": null,
   "id": "47b9a5de",
   "metadata": {},
   "outputs": [],
   "source": []
  }
 ],
 "metadata": {
  "kernelspec": {
   "display_name": "Python 3 (ipykernel)",
   "language": "python",
   "name": "python3"
  },
  "language_info": {
   "codemirror_mode": {
    "name": "ipython",
    "version": 3
   },
   "file_extension": ".py",
   "mimetype": "text/x-python",
   "name": "python",
   "nbconvert_exporter": "python",
   "pygments_lexer": "ipython3",
   "version": "3.8.2"
  }
 },
 "nbformat": 4,
 "nbformat_minor": 5
}
